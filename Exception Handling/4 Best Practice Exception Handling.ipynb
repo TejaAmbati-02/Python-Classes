{
 "cells": [
  {
   "cell_type": "code",
   "execution_count": 2,
   "metadata": {},
   "outputs": [
    {
     "name": "stdout",
     "output_type": "stream",
     "text": [
      "division by zero\n"
     ]
    }
   ],
   "source": [
    "# Use always a specific Exceptions\n",
    "\n",
    "try :\n",
    "    10 /0\n",
    "except Exception as e:\n",
    "    print(e)"
   ]
  },
  {
   "cell_type": "code",
   "execution_count": 3,
   "metadata": {},
   "outputs": [
    {
     "name": "stdout",
     "output_type": "stream",
     "text": [
      "division by zero\n"
     ]
    }
   ],
   "source": [
    "try :\n",
    "    10 /0\n",
    "except ZeroDivisionError as e:\n",
    "    print(e)"
   ]
  },
  {
   "cell_type": "code",
   "execution_count": 6,
   "metadata": {},
   "outputs": [
    {
     "name": "stdout",
     "output_type": "stream",
     "text": [
      "This is my zero division error i'm handing division by zero\n"
     ]
    }
   ],
   "source": [
    "# Print always a valid message\n",
    "\n",
    "try:\n",
    "    10 / 0\n",
    "except ZeroDivisionError as e:\n",
    "    print(\"This is my zero division error i'm handing\", e)"
   ]
  },
  {
   "cell_type": "code",
   "execution_count": 8,
   "metadata": {},
   "outputs": [],
   "source": [
    "# always try to log\n",
    "\n",
    "import logging\n",
    "logging.basicConfig(filename=\"error.log\", level = logging.ERROR)\n",
    "\n",
    "try:\n",
    "    10 / 0\n",
    "except ZeroDivisionError as e:\n",
    "    logging.error(\"This is my zero division error i'm handing {}\".format(e))\n",
    "logging.shutdown()"
   ]
  },
  {
   "cell_type": "code",
   "execution_count": null,
   "metadata": {},
   "outputs": [],
   "source": [
    "# Always avoid to write a multiple exception handling\n",
    "try:\n",
    "    10 / 0\n",
    "\n",
    "except FileNotFoundError as e:\n",
    "    logging.error(\"This is my file not found error i'm handing {}\".format(e))\n",
    "\n",
    "\n",
    "except AttributeError as e:\n",
    "    logging.error(\"This is my attribute error i'm handing {}\".format(e))\n",
    "\n",
    "except ZeroDivisionError as e:\n",
    "    logging.error(\"This is my zero division error i'm handing {}\".format(e))\n"
   ]
  },
  {
   "cell_type": "code",
   "execution_count": 9,
   "metadata": {},
   "outputs": [],
   "source": [
    "# Always try to prepare a proper documentation"
   ]
  },
  {
   "cell_type": "code",
   "execution_count": null,
   "metadata": {},
   "outputs": [],
   "source": [
    "# Cleanup all the resources\n",
    "\n",
    "try:\n",
    "    with open(\"test.txt\",'w') as f:\n",
    "        f.write(\"This is my message to file\")\n",
    "except FileNotFoundError as e:\n",
    "    logging.error(\"This is my file not found error i'm handing {}\".format(e))\n",
    "\n",
    "finally:\n",
    "    f.close()"
   ]
  }
 ],
 "metadata": {
  "kernelspec": {
   "display_name": "base",
   "language": "python",
   "name": "python3"
  },
  "language_info": {
   "codemirror_mode": {
    "name": "ipython",
    "version": 3
   },
   "file_extension": ".py",
   "mimetype": "text/x-python",
   "name": "python",
   "nbconvert_exporter": "python",
   "pygments_lexer": "ipython3",
   "version": "3.9.12"
  },
  "orig_nbformat": 4
 },
 "nbformat": 4,
 "nbformat_minor": 2
}
